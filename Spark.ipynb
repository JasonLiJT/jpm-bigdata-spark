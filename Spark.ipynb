{
 "cells": [
  {
   "cell_type": "markdown",
   "metadata": {},
   "source": [
    "# Introduction to Spark"
   ]
  },
  {
   "cell_type": "markdown",
   "metadata": {},
   "source": [
    "In this notebook, you will be introduced to the Apache Spark libary for big data processing. There's a now a python package called `pyspark` which will load Spark for you. Tthe variable `sc` is a Spark context that lets you interact with the Spark runtime. Check that it is correctly initialised:"
   ]
  },
  {
   "cell_type": "code",
   "execution_count": 1,
   "metadata": {
    "collapsed": true
   },
   "outputs": [
    {
     "name": "stdout",
     "output_type": "stream",
     "text": [
      "<SparkContext master=local[*] appName=pyspark-shell>\n",
      "Ready to go!\n"
     ]
    }
   ],
   "source": [
    "from pyspark import SparkContext\n",
    "sc = SparkContext.getOrCreate()\n",
    "print(sc)\n",
    "print(\"Ready to go!\")"
   ]
  },
  {
   "cell_type": "markdown",
   "metadata": {},
   "source": [
    "### Learning activity: Create RDDs"
   ]
  },
  {
   "cell_type": "markdown",
   "metadata": {},
   "source": [
    "To analyse large datasets using Spark you will load them into Resilient Distributed Datasets (RDDs). There are a number of ways in which you can create RDDs. Use the `parallelize()` function to create one from a Python collection of elements [\"Hello\", \"World\", \"!\"] "
   ]
  },
  {
   "cell_type": "code",
   "execution_count": 2,
   "metadata": {
    "collapsed": true
   },
   "outputs": [],
   "source": [
    "helloWorld = sc.parallelize([\"Hello\", \"World\", \"!\"])"
   ]
  },
  {
   "cell_type": "markdown",
   "metadata": {},
   "source": [
    "Use the `textFile()` function to create an RDD from the file `war-and-peace.txt` and store it in a variable called `lines`. "
   ]
  },
  {
   "cell_type": "code",
   "execution_count": 3,
   "metadata": {
    "collapsed": true
   },
   "outputs": [],
   "source": [
    "lines = sc.textFile('war-and-peace.txt')"
   ]
  },
  {
   "cell_type": "code",
   "execution_count": 5,
   "metadata": {},
   "outputs": [
    {
     "data": {
      "text/plain": [
       "3"
      ]
     },
     "execution_count": 5,
     "metadata": {},
     "output_type": "execute_result"
    }
   ],
   "source": [
    "helloWorld.count()"
   ]
  },
  {
   "cell_type": "markdown",
   "metadata": {},
   "source": [
    "### Learning activity: Basic RDD manipulation"
   ]
  },
  {
   "cell_type": "markdown",
   "metadata": {},
   "source": [
    "Print the number of lines in War and Peace using the functions `count()`."
   ]
  },
  {
   "cell_type": "code",
   "execution_count": 6,
   "metadata": {
    "collapsed": true
   },
   "outputs": [
    {
     "data": {
      "text/plain": [
       "54223"
      ]
     },
     "execution_count": 6,
     "metadata": {},
     "output_type": "execute_result"
    }
   ],
   "source": [
    "lines.count()"
   ]
  },
  {
   "cell_type": "markdown",
   "metadata": {},
   "source": [
    "Print the first 15 lines using the functions `take()`."
   ]
  },
  {
   "cell_type": "code",
   "execution_count": 7,
   "metadata": {
    "collapsed": true,
    "scrolled": true
   },
   "outputs": [
    {
     "data": {
      "text/plain": [
       "['                                      1869',\n",
       " '                                 WAR AND PEACE',\n",
       " '                                 by Leo Tolstoy',\n",
       " 'BK1',\n",
       " '                                 BOOK ONE: 1805',\n",
       " 'BK1|CH1',\n",
       " '  CHAPTER I',\n",
       " '',\n",
       " '  \"Well, Prince, so Genoa and Lucca are now just family estates of the',\n",
       " \"Buonapartes. But I warn you, if you don't tell me that this means war,\",\n",
       " 'if you still try to defend the infamies and horrors perpetrated by',\n",
       " 'that Antichrist- I really believe he is Antichrist- I will have',\n",
       " 'nothing more to do with you and you are no longer my friend, no longer',\n",
       " \"my 'faithful slave,' as you call yourself! But how do you do? I see\",\n",
       " 'I have frightened you- sit down and tell me all the news.\"']"
      ]
     },
     "execution_count": 7,
     "metadata": {},
     "output_type": "execute_result"
    }
   ],
   "source": [
    "lines.take(15)"
   ]
  },
  {
   "cell_type": "code",
   "execution_count": 8,
   "metadata": {},
   "outputs": [
    {
     "data": {
      "text/plain": [
       "\"\\n        Take the first num elements of the RDD.\\n\\n        It works by first scanning one partition, and use the results from\\n        that partition to estimate the number of additional partitions needed\\n        to satisfy the limit.\\n\\n        Translated from the Scala implementation in RDD#take().\\n\\n        .. note:: this method should only be used if the resulting array is expected\\n            to be small, as all the data is loaded into the driver's memory.\\n\\n        >>> sc.parallelize([2, 3, 4, 5, 6]).cache().take(2)\\n        [2, 3]\\n        >>> sc.parallelize([2, 3, 4, 5, 6]).take(10)\\n        [2, 3, 4, 5, 6]\\n        >>> sc.parallelize(range(100), 100).filter(lambda x: x > 90).take(3)\\n        [91, 92, 93]\\n        \""
      ]
     },
     "execution_count": 8,
     "metadata": {},
     "output_type": "execute_result"
    }
   ],
   "source": [
    "lines.take.__doc__"
   ]
  },
  {
   "cell_type": "markdown",
   "metadata": {},
   "source": [
    "### Learning activity: `filter()` and `map()` and `distinct()`"
   ]
  },
  {
   "cell_type": "markdown",
   "metadata": {},
   "source": [
    "Lets apply some transformations onto RDDs. The following helper function will be useful to select the words from a line."
   ]
  },
  {
   "cell_type": "code",
   "execution_count": 9,
   "metadata": {
    "collapsed": true,
    "scrolled": true
   },
   "outputs": [
    {
     "name": "stdout",
     "output_type": "stream",
     "text": [
      "['This', 'is', 'a', 'test']\n"
     ]
    }
   ],
   "source": [
    "# A helper function to compute the list of words in a line of text\n",
    "import re\n",
    "def get_words(line):\n",
    "    return re.compile('\\w+').findall(line)\n",
    "\n",
    "print(get_words(\"This, is a test!\"))"
   ]
  },
  {
   "cell_type": "markdown",
   "metadata": {},
   "source": [
    "Use `filter()` to count the number of lines which mention `war` and the number of lines which mention `peace`."
   ]
  },
  {
   "cell_type": "code",
   "execution_count": 41,
   "metadata": {
    "collapsed": true
   },
   "outputs": [
    {
     "name": "stdout",
     "output_type": "stream",
     "text": [
      "war: 1227 times (1255 times ignoring case)\n",
      "peace: 128 times (131 times ignoring case)\n"
     ]
    }
   ],
   "source": [
    "# How often are war and peace mentioned?\n",
    "warFilteredCaseSensitive = lines.filter(lambda line: 'war' in line)\n",
    "peaceFilteredCaseSensitive = lines.filter(lambda line: 'peace' in line)\n",
    "warFiltered = lines.filter(lambda line: 'war' in line.lower())\n",
    "peaceFiltered = lines.filter(lambda line: 'peace' in line.lower())\n",
    "\n",
    "warFrequencyCaseSensitive = warFilteredCaseSensitive.count()\n",
    "peaceFrequencyCaseSensitive = peaceFilteredCaseSensitive.count()\n",
    "warFrequency = warFiltered.count()\n",
    "peaceFrequency = peaceFiltered.count()\n",
    "print(\"war: {} times ({} times ignoring case)\".format(warFrequencyCaseSensitive, warFrequency))\n",
    "print(\"peace: {} times ({} times ignoring case)\".format(peaceFrequencyCaseSensitive, peaceFrequency))"
   ]
  },
  {
   "cell_type": "code",
   "execution_count": 30,
   "metadata": {},
   "outputs": [
    {
     "data": {
      "text/plain": [
       "54223"
      ]
     },
     "execution_count": 30,
     "metadata": {},
     "output_type": "execute_result"
    }
   ],
   "source": [
    "lines.count()"
   ]
  },
  {
   "cell_type": "markdown",
   "metadata": {},
   "source": [
    "Use `map()` to capitalise each line in the RDD, and print the first 15 capitalized lines."
   ]
  },
  {
   "cell_type": "code",
   "execution_count": 20,
   "metadata": {
    "collapsed": true
   },
   "outputs": [
    {
     "data": {
      "text/plain": [
       "['                                      1869',\n",
       " '                                 WAR AND PEACE',\n",
       " '                                 BY LEO TOLSTOY',\n",
       " 'BK1',\n",
       " '                                 BOOK ONE: 1805',\n",
       " 'BK1|CH1',\n",
       " '  CHAPTER I',\n",
       " '',\n",
       " '  \"WELL, PRINCE, SO GENOA AND LUCCA ARE NOW JUST FAMILY ESTATES OF THE',\n",
       " \"BUONAPARTES. BUT I WARN YOU, IF YOU DON'T TELL ME THAT THIS MEANS WAR,\",\n",
       " 'IF YOU STILL TRY TO DEFEND THE INFAMIES AND HORRORS PERPETRATED BY',\n",
       " 'THAT ANTICHRIST- I REALLY BELIEVE HE IS ANTICHRIST- I WILL HAVE',\n",
       " 'NOTHING MORE TO DO WITH YOU AND YOU ARE NO LONGER MY FRIEND, NO LONGER',\n",
       " \"MY 'FAITHFUL SLAVE,' AS YOU CALL YOURSELF! BUT HOW DO YOU DO? I SEE\",\n",
       " 'I HAVE FRIGHTENED YOU- SIT DOWN AND TELL ME ALL THE NEWS.\"']"
      ]
     },
     "execution_count": 20,
     "metadata": {},
     "output_type": "execute_result"
    }
   ],
   "source": [
    "# Capitalize each line in the RDD\n",
    "capitalized = lines.map(lambda line: line.upper())\n",
    "capitalized.take(15)"
   ]
  },
  {
   "cell_type": "code",
   "execution_count": 22,
   "metadata": {},
   "outputs": [
    {
     "data": {
      "text/plain": [
       "['                                      1869',\n",
       " '                                 WAR AND PEACE',\n",
       " '                                 by Leo Tolstoy',\n",
       " 'BK1',\n",
       " '                                 BOOK ONE: 1805',\n",
       " 'BK1|CH1',\n",
       " '  CHAPTER I',\n",
       " '',\n",
       " '  \"Well, Prince, so Genoa and Lucca are now just family estates of the',\n",
       " \"Buonapartes. But I warn you, if you don't tell me that this means war,\",\n",
       " 'if you still try to defend the infamies and horrors perpetrated by',\n",
       " 'that Antichrist- I really believe he is Antichrist- I will have',\n",
       " 'nothing more to do with you and you are no longer my friend, no longer',\n",
       " \"my 'faithful slave,' as you call yourself! But how do you do? I see\",\n",
       " 'I have frightened you- sit down and tell me all the news.\"']"
      ]
     },
     "execution_count": 22,
     "metadata": {},
     "output_type": "execute_result"
    }
   ],
   "source": [
    "lines.take(15)"
   ]
  },
  {
   "cell_type": "markdown",
   "metadata": {},
   "source": [
    "Use `flatMap()` to create an RDD of the words in War and Peace and count the number of words."
   ]
  },
  {
   "cell_type": "code",
   "execution_count": 44,
   "metadata": {
    "collapsed": true
   },
   "outputs": [
    {
     "data": {
      "text/plain": [
       "573322"
      ]
     },
     "execution_count": 44,
     "metadata": {},
     "output_type": "execute_result"
    }
   ],
   "source": [
    "# Split each line into words using get_words()\n",
    "words = lines.flatMap(lambda line: get_words(line))\n",
    "words.count()"
   ]
  },
  {
   "cell_type": "markdown",
   "metadata": {},
   "source": [
    "Finally, use `distinct()` to count the number of different words in the RDD."
   ]
  },
  {
   "cell_type": "code",
   "execution_count": 58,
   "metadata": {
    "collapsed": true
   },
   "outputs": [
    {
     "data": {
      "text/plain": [
       "19206"
      ]
     },
     "execution_count": 58,
     "metadata": {},
     "output_type": "execute_result"
    }
   ],
   "source": [
    "# Count the number of distinct words\n",
    "distinctWords = words.distinct()\n",
    "distinctWords.count()"
   ]
  },
  {
   "cell_type": "markdown",
   "metadata": {},
   "source": [
    "### Learning activity: Set like transformations"
   ]
  },
  {
   "cell_type": "markdown",
   "metadata": {},
   "source": [
    "Use the functions `union()` and `intersection()` to create RDDs of lines with either war or peace mentioned, and both war and peace being mentioned. Count how many lines of each type there are and print some examples."
   ]
  },
  {
   "cell_type": "code",
   "execution_count": 43,
   "metadata": {
    "collapsed": true,
    "scrolled": true
   },
   "outputs": [
    {
     "name": "stdout",
     "output_type": "stream",
     "text": [
      "Either war or peace mentioned: 1386 lines\n",
      "Both war and peace mentioned: 10 lines\n"
     ]
    }
   ],
   "source": [
    "warOrPeaceMentioned = warFiltered.union(peaceFiltered)\n",
    "warAndPeaceMentioned = warFiltered.intersection(peaceFiltered)\n",
    "\n",
    "print('Either war or peace mentioned: {} lines'.format(warOrPeaceMentioned.count()))\n",
    "print('Both war and peace mentioned: {} lines'.format(warAndPeaceMentioned.count()))"
   ]
  },
  {
   "cell_type": "markdown",
   "metadata": {},
   "source": [
    "### Learning activity: `reduce()`"
   ]
  },
  {
   "cell_type": "markdown",
   "metadata": {},
   "source": [
    "You have already seen three actions: `collect()` which returns all elements in the RDD, `take(n)`, which return the first `n` elements of the RDD, and `count()` which returns the number of elements in the RDD.\n",
    "\n",
    "The action `reduce()` takes as input a function which collapses two elements into one. Use it to find the longest word in War and Peace."
   ]
  },
  {
   "cell_type": "code",
   "execution_count": 46,
   "metadata": {
    "collapsed": true
   },
   "outputs": [
    {
     "data": {
      "text/plain": [
       "'characteristically'"
      ]
     },
     "execution_count": 46,
     "metadata": {},
     "output_type": "execute_result"
    }
   ],
   "source": [
    "words.reduce(lambda a, b: a if len(a) > len(b) else b)"
   ]
  },
  {
   "cell_type": "markdown",
   "metadata": {},
   "source": [
    "### Bonus activity: merging filters"
   ]
  },
  {
   "cell_type": "markdown",
   "metadata": {},
   "source": [
    "Find all the lines that mention both war and peace **without** using `intersection()`."
   ]
  },
  {
   "cell_type": "code",
   "execution_count": 47,
   "metadata": {
    "collapsed": true
   },
   "outputs": [
    {
     "data": {
      "text/plain": [
       "10"
      ]
     },
     "execution_count": 47,
     "metadata": {},
     "output_type": "execute_result"
    }
   ],
   "source": [
    "mergedFilter = lines.filter(lambda line: 'war' in line.lower() and 'peace' in line.lower())\n",
    "mergedFilter.count()"
   ]
  },
  {
   "cell_type": "markdown",
   "metadata": {},
   "source": [
    "### Bonus learning activity: Finding proper nouns"
   ]
  },
  {
   "cell_type": "markdown",
   "metadata": {},
   "source": [
    "The Python function `str.istitle()` returns `True` if the string `str` is titlecased: the first character is uppercase and others are lowercase. Use it to:\n",
    "* Find the set of distinct words in War and Peace which are titlecased\n",
    "* Find the set of distinct words in War and Peace which are not titlecased"
   ]
  },
  {
   "cell_type": "code",
   "execution_count": 56,
   "metadata": {
    "collapsed": true
   },
   "outputs": [
    {
     "data": {
      "text/plain": [
       "True"
      ]
     },
     "execution_count": 56,
     "metadata": {},
     "output_type": "execute_result"
    }
   ],
   "source": [
    "'Introduction To Bigdata'.istitle()"
   ]
  },
  {
   "cell_type": "code",
   "execution_count": 57,
   "metadata": {},
   "outputs": [
    {
     "data": {
      "text/plain": [
       "False"
      ]
     },
     "execution_count": 57,
     "metadata": {},
     "output_type": "execute_result"
    }
   ],
   "source": [
    "'Introduction to Bigdata'.istitle()"
   ]
  },
  {
   "cell_type": "code",
   "execution_count": 61,
   "metadata": {},
   "outputs": [
    {
     "name": "stdout",
     "output_type": "stream",
     "text": [
      "Distinct 19206 words that are:\n",
      "Titlecased: 3068\n",
      "Not titlecased: 16138\n",
      "Sum: 19206\n"
     ]
    }
   ],
   "source": [
    "titlecasedDistinct = distinctWords.filter(lambda word: word.istitle())\n",
    "notTitlecasedDistinct = distinctWords.subtract(titlecasedDistinct)\n",
    "print('Distinct {} words that are:'.format(distinctWords.count()))\n",
    "print('Titlecased:', titlecasedDistinct.count())\n",
    "print('Not titlecased:', notTitlecasedDistinct.count())\n",
    "print('Sum: {}'.format(titlecasedDistinct.count() + distinctWords.filter(lambda word: not word.istitle()).count()))"
   ]
  },
  {
   "cell_type": "markdown",
   "metadata": {},
   "source": [
    "The Python function `str.lower` returns a string with all characters of `str` lowercase. Use it, along with your previously generated RDD to find the set of words in War and Peace which only appear titlecased."
   ]
  },
  {
   "cell_type": "code",
   "execution_count": 63,
   "metadata": {
    "collapsed": true
   },
   "outputs": [
    {
     "name": "stdout",
     "output_type": "stream",
     "text": [
      "Words that only appear titlecased: 1541\n",
      "['leo', 'buonaparte', 'austria', 'prussian', 'bolkonskaya', 'enghien', 'dio', 'france', 'semenov', 'rostovs']\n"
     ]
    }
   ],
   "source": [
    "# First transform the RDDs to lower case words\n",
    "titlecasedLowered = titlecasedDistinct.map(lambda word: word.lower())\n",
    "notTitlecasedLowered = notTitlecasedDistinct.map(lambda word: word.lower())\n",
    "\n",
    "# Then subtract\n",
    "onlyTitlecased = titlecasedLowered.subtract(notTitlecasedLowered)\n",
    "print('Words that only appear titlecased:',onlyTitlecased.count())\n",
    "print(onlyTitlecased.take(10))"
   ]
  },
  {
   "cell_type": "markdown",
   "metadata": {},
   "source": [
    "# Key/Value pairs in Spark"
   ]
  },
  {
   "cell_type": "markdown",
   "metadata": {},
   "source": [
    "### Learning activity: WordCount in Spark"
   ]
  },
  {
   "cell_type": "markdown",
   "metadata": {},
   "source": [
    "Use the functions `flatMap()` and `reduceByKey()` to count the number of occurences of each word in War and Peace, and print the count of five words."
   ]
  },
  {
   "cell_type": "code",
   "execution_count": 66,
   "metadata": {
    "collapsed": true
   },
   "outputs": [
    {
     "data": {
      "text/plain": [
       "[('PEACE', 1), ('Leo', 1), ('BOOK', 15), ('ONE', 2), ('1805', 24)]"
      ]
     },
     "execution_count": 66,
     "metadata": {},
     "output_type": "execute_result"
    }
   ],
   "source": [
    "wordCount = words.map(lambda word: (word, 1)).reduceByKey(lambda x, y: x + y)\n",
    "wordCount.take(5)"
   ]
  },
  {
   "cell_type": "markdown",
   "metadata": {},
   "source": [
    "### Learning activity: using `groupByKey()`"
   ]
  },
  {
   "cell_type": "markdown",
   "metadata": {},
   "source": [
    "Reimplement the above word count using `groupByKey()` instead of `reduceByKey()`"
   ]
  },
  {
   "cell_type": "code",
   "execution_count": 70,
   "metadata": {
    "collapsed": true
   },
   "outputs": [
    {
     "data": {
      "text/plain": [
       "[('PEACE', 1), ('Leo', 1), ('BOOK', 15), ('ONE', 2), ('1805', 24)]"
      ]
     },
     "execution_count": 70,
     "metadata": {},
     "output_type": "execute_result"
    }
   ],
   "source": [
    "wordCountGroupByKey = words.map(lambda word: (word, 1)).groupByKey().map(lambda keys: (keys[0], len(keys[1])))\n",
    "wordCountGroupByKey.take(5)"
   ]
  },
  {
   "cell_type": "markdown",
   "metadata": {},
   "source": [
    "### Bonus learning activity: computing the average of each key"
   ]
  },
  {
   "cell_type": "markdown",
   "metadata": {},
   "source": [
    "The pair RDD defined below `word_line_pairs` has an element for each line in War and Peace with as key the first word, and as value the line itself. Use it to compute the average length of each line for each starting word."
   ]
  },
  {
   "cell_type": "code",
   "execution_count": 71,
   "metadata": {
    "collapsed": true
   },
   "outputs": [],
   "source": [
    "word_line_pairs = lines.filter(lambda line: len(get_words(line)) > 0).map(lambda line: (get_words(line)[0], line))     "
   ]
  },
  {
   "cell_type": "code",
   "execution_count": 72,
   "metadata": {
    "collapsed": true
   },
   "outputs": [
    {
     "data": {
      "text/plain": [
       "[('BOOK', 48.46666666666667),\n",
       " ('It', 62.230496453900706),\n",
       " ('Fedorovna', 68.0),\n",
       " ('of', 59.47846889952153),\n",
       " ('reception', 66.0)]"
      ]
     },
     "execution_count": 72,
     "metadata": {},
     "output_type": "execute_result"
    }
   ],
   "source": [
    "averageLength = word_line_pairs.groupByKey().map(lambda pair: (pair[0], sum([len(line) for line in pair[1]]) / len(pair[1])))\n",
    "averageLength.take(5)"
   ]
  }
 ],
 "metadata": {
  "kernelspec": {
   "display_name": "Python 3",
   "language": "python",
   "name": "python3"
  },
  "language_info": {
   "codemirror_mode": {
    "name": "ipython",
    "version": 3
   },
   "file_extension": ".py",
   "mimetype": "text/x-python",
   "name": "python",
   "nbconvert_exporter": "python",
   "pygments_lexer": "ipython3",
   "version": "3.6.4"
  }
 },
 "nbformat": 4,
 "nbformat_minor": 2
}
